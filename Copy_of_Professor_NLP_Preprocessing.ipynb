{
  "cells": [
    {
      "cell_type": "code",
      "execution_count": null,
      "metadata": {
        "id": "9I7mF6dxmrie"
      },
      "outputs": [],
      "source": [
        "import pandas as pd\n",
        "\n",
        "# Drop comments that are less than a certain length.\n",
        "# Research Data Augmentation"
      ]
    },
    {
      "cell_type": "markdown",
      "metadata": {
        "id": "w8WYF1mwiTXV"
      },
      "source": [
        "## Things to Work out\n",
        "- Drop Comments that are less than a certain length because they might make the model worse, basically we want comments that align with their tag\n"
      ]
    },
    {
      "cell_type": "code",
      "execution_count": null,
      "metadata": {
        "colab": {
          "base_uri": "https://localhost:8080/",
          "height": 655
        },
        "id": "V9SVCAayskSN",
        "outputId": "0ba64499-156b-4150-f46a-ee458a91ad80"
      },
      "outputs": [],
      "source": [
        "df = pd.read_csv(\"https://raw.githubusercontent.com/suvelmuttreja/professor-nlp/main/rmpDataNew.csv\")\n",
        "# df.head()\n",
        "\n",
        "#df.dropna(inplace = True)\n",
        "#df = df.drop(columns=['Department', 'Helpful Rating', 'Avg Difficulty', 'Avg Rating', 'First Name', 'Last Name'])\n",
        "\n",
        "\n",
        "#df.head(40)\n",
        "#Dropping These Categories\n",
        "df.drop('Department', axis=1, inplace=True)\n",
        "df.drop('First Name', axis=1, inplace=True)\n",
        "df.drop('Last Name', axis=1, inplace=True)\n",
        "df.drop('Avg Difficulty', axis=1, inplace=True)\n",
        "df.drop('Avg Rating', axis=1, inplace=True)\n",
        "df.drop('Difficulty Rating', axis=1, inplace=True)\n",
        "df = df[df['Grade'].str.len() <= 3]\n",
        "df.drop('Grade', axis=1, inplace=True)\n",
        "df.drop('Clarity Rating', axis=1, inplace=True)\n",
        "\n",
        "\n",
        "#Drop empty rows with no rating tags\n",
        "\n",
        "# 3. Split the 'Rating Tags' based on '--' and use one-hot encoding for each tag.\n",
        "# Split the 'Rating Tags' based on '--' and use one-hot encoding for each tag (case-insensitive).\n",
        "tags = df['Rating Tags'].str.lower().str.split('--', expand=True).stack()\n",
        "one_hot_encoded = pd.get_dummies(tags, prefix='Tag').groupby(level=0).sum()\n",
        "df = pd.concat([df, one_hot_encoded], axis=1)\n",
        "\n",
        "\n",
        "# 4. Drop rows where the 'Rating Tags' column is empty.\n",
        "df = df[df['Rating Tags'].notna()]\n",
        "\n",
        "\n",
        "\n",
        "# 5. Drop rows where the string length in the 'Grade' column is longer than 3.\n",
        "\n",
        "\n",
        "# 6. DROPPING COMMENTS LESS THAN LENGTH OF 100\n",
        "df = df[df['Comment'].str.len() >= 100]\n",
        "\n",
        "df.head()"
      ]
    },
    {
      "cell_type": "markdown",
      "metadata": {
        "id": "EYgqbB4MbV_X"
      },
      "source": [
        "### Measuring Distribution\n"
      ]
    },
    {
      "cell_type": "code",
      "execution_count": null,
      "metadata": {
        "colab": {
          "base_uri": "https://localhost:8080/"
        },
        "id": "ffxKPo_MbQoZ",
        "outputId": "af611b33-3ca5-4cf0-9600-55021a889afe"
      },
      "outputs": [],
      "source": [
        "tag_columns = [col for col in df.columns if 'Tag_' in col]\n",
        "tag_distribution = df[tag_columns].sum().sort_values(ascending=False)\n",
        "# print(tag_distribution)\n",
        "len(tag_columns)\n"
      ]
    },
    {
      "cell_type": "code",
      "execution_count": null,
      "metadata": {
        "colab": {
          "base_uri": "https://localhost:8080/",
          "height": 655
        },
        "id": "h4NEiTzf6EWw",
        "outputId": "0d5b8ef7-0e67-471b-df18-c1d0491755d6"
      },
      "outputs": [],
      "source": [
        "df.head()"
      ]
    },
    {
      "cell_type": "code",
      "execution_count": null,
      "metadata": {
        "colab": {
          "base_uri": "https://localhost:8080/"
        },
        "id": "RsqACKtbbnOA",
        "outputId": "c316828a-dda8-45fa-83d7-26ebcbe86024"
      },
      "outputs": [],
      "source": [
        "import pandas as pd\n",
        "\n",
        "# Assuming df is your DataFrame and tag_columns is a list of your tag columns\n",
        "# Remove specific columns if they exist in the DataFrame\n",
        "# columns_to_drop = ['Tag_Respected by students', 'Tag_CARES ABOUT STUDENTS']\n",
        "# df.drop(columns=[col for col in columns_to_drop if col in df.columns], axis=1, inplace=True)\n",
        "\n",
        "# Update tag_columns to ensure all columns still exist in the DataFrame\n",
        "tag_columns = [col for col in tag_columns if col in df.columns]\n",
        "\n",
        "# Set threshold for resampling\n",
        "threshold = 1000\n",
        "\n",
        "# Undersample majority classes\n",
        "for tag in tag_columns:\n",
        "    n_samples = int(df[tag].sum())\n",
        "    if n_samples > threshold:\n",
        "        # Select indices to drop\n",
        "        drop_indices = df[df[tag] == 1].sample(n_samples - threshold, random_state=42).index\n",
        "        # Drop selected indices\n",
        "        df.drop(index=drop_indices, inplace=True)\n",
        "\n",
        "# Oversample minority classes\n",
        "for tag in tag_columns:\n",
        "    n_samples = int(df[tag].sum())\n",
        "    if 0 < n_samples < threshold:\n",
        "        # Select samples for oversampling\n",
        "        additional_samples = df[df[tag] == 1].sample(threshold - n_samples, replace=True, random_state=42)\n",
        "        # Concatenate additional samples\n",
        "        df = pd.concat([df, additional_samples], ignore_index=True)\n",
        "\n",
        "# Shuffle the DataFrame\n",
        "df = df.sample(frac=1, random_state=42).reset_index(drop=True)\n",
        "\n",
        "# Check and print the distribution of tags\n",
        "tag_distribution = df[tag_columns].sum().sort_values(ascending=False)\n",
        "print(tag_distribution)\n"
      ]
    },
    {
      "cell_type": "code",
      "execution_count": null,
      "metadata": {
        "colab": {
          "base_uri": "https://localhost:8080/"
        },
        "id": "x50rhbRb61-q",
        "outputId": "eda258b3-8d4d-4436-8b97-b4f98b40ecdb"
      },
      "outputs": [],
      "source": [
        "\n",
        "\n",
        "pip install transformers"
      ]
    },
    {
      "cell_type": "code",
      "execution_count": null,
      "metadata": {
        "id": "F8VADSI268_v"
      },
      "outputs": [],
      "source": [
        "import numpy as np\n",
        "import pandas as pd\n",
        "import torch\n",
        "import torch.nn as nn\n",
        "import shutil\n",
        "import sys"
      ]
    },
    {
      "cell_type": "code",
      "execution_count": null,
      "metadata": {
        "colab": {
          "base_uri": "https://localhost:8080/"
        },
        "id": "FYzXREGkt4RA",
        "outputId": "9b04a62f-201b-4aa1-c5e4-f3d906a1fa10"
      },
      "outputs": [],
      "source": [
        "\n",
        "# Convert all DataFrame column names to lowercase\n",
        "df.columns = df.columns.str.lower()\n",
        "df.columns"
      ]
    },
    {
      "cell_type": "code",
      "execution_count": null,
      "metadata": {
        "colab": {
          "base_uri": "https://localhost:8080/"
        },
        "id": "cUY-zqug7CzC",
        "outputId": "7099af53-ad69-4d60-dc59-4ccebd4e6b84"
      },
      "outputs": [],
      "source": [
        "old_target_list = ['comment', 'rating tags', 'tag_accessible outside class',\n",
        "       'tag_amazing lectures', 'tag_amazing lectures ',\n",
        "       'tag_beware of pop quizzes', 'tag_caring', 'tag_clear grading criteria',\n",
        "       'tag_extra credit', 'tag_get ready to read', 'tag_gives good feedback',\n",
        "       'tag_graded by few things', 'tag_group projects', 'tag_hilarious',\n",
        "       'tag_inspirational', 'tag_lecture heavy', 'tag_lots of homework',\n",
        "       'tag_online savvy', 'tag_participation matters', 'tag_respected',\n",
        "       \"tag_skip class? you won't pass.\", 'tag_so many papers',\n",
        "       'tag_test heavy', 'tag_tests are tough', 'tag_tests? not many',\n",
        "       'tag_tough grader', 'tag_would take again']\n",
        "# target_list = [tag for tag in old_target_list if tag in df.columns]\n",
        "# print(target_list)\n",
        "old_target_list = [tag.lower() for tag in old_target_list]\n",
        "\n",
        "# Filter the tags that are present in the DataFrame columns\n",
        "target_list = [tag for tag in old_target_list if tag in df.columns]\n",
        "\n",
        "len(target_list)\n",
        "df[target_list].values[:, 2:]\n"
      ]
    },
    {
      "cell_type": "code",
      "execution_count": null,
      "metadata": {
        "id": "dg2RQ12O7FSf"
      },
      "outputs": [],
      "source": [
        "MAX_LEN = 256\n",
        "TRAIN_BATCH_SIZE = 16\n",
        "VALID_BATCH_SIZE = 16\n",
        "EPOCHS = 2\n",
        "LEARNING_RATE = 1e-05"
      ]
    },
    {
      "cell_type": "code",
      "execution_count": null,
      "metadata": {
        "id": "axnfbAH-7HYk"
      },
      "outputs": [],
      "source": [
        "from transformers import BertTokenizer, BertModel"
      ]
    },
    {
      "cell_type": "code",
      "execution_count": null,
      "metadata": {
        "colab": {
          "base_uri": "https://localhost:8080/",
          "height": 145,
          "referenced_widgets": [
            "78bfdf6a5c04476aa5dcf85a8bc33a38",
            "6483124ad13a42928b2054fc4d5a2718",
            "209cff7cf277488d988d789f9f66858b",
            "0e571025b0eb4f1e899d555d0c6ec287",
            "75a00d20e89f4a8297446d070c3499af",
            "d24c232e43a14bcc9c6e090051d2c4d9",
            "233eb2d459df4364b4d3a087f68ed893",
            "dd9e9090401d4a53ba2a7db552c7e1dc",
            "c6065b62a6464339a8d339d49dcd1fff",
            "a24d9a3938994fc18cd2d36415daedc1",
            "63be7976d51b4134bb5c5372bde8e057",
            "dc978e0543dd4d798b8d72f9cfcfbdda",
            "962056b20e854392bd7fdc4251a77e8e",
            "feb9636105524e28a27afe2d9bfd9415",
            "52a1acb365414a5dabb6d588bb3858c0",
            "e5f7c83cb05e4c5d9d985900b7ba076d",
            "58ff698181624eb2a6d892abf90180ee",
            "d81200b93e644fe59f782596b905a998",
            "f50af1de7e9e48039d3cf2c6c49a26a0",
            "f9f30c4b869f4b1a985b1d8ebbf60d6b",
            "f6d24bdb8318445eb69617dbb1f63fea",
            "ab4b8998326948978dad58b5fb23f179",
            "f890527e6a7f44b996fe81ea18f3b8ff",
            "6a309a79be004b7ba89abf6fc0951e3b",
            "2346b1c64d2a4d08abdd5fd678e302c8",
            "dea9c2ffe42a46388c3082a34d8d0abc",
            "0db4bb4b2c894b45b15f65b066633114",
            "b243301cb7b24f04859d0d5eee2779ee",
            "a6d164c39e6e4e5dbcd253d191f43c0d",
            "09510229789c44d19133908e0476cb17",
            "b69fbb3ad2f9436d9d7edf9bfe556af4",
            "c80d4a7077a442b89283480bce851e4e",
            "3e9db49c0bb0474e89e2ca207923572b",
            "4d2aa83b1b844149b8ca3d1cf516cb92",
            "c5a6a010f1de4b6380a0f4dbb8529522",
            "25530c2f1f484e25adcbde8c0eb035c3",
            "1c07f135f5874323ade704db78dac005",
            "ed6ea03e2bb24a3a9ff4cb0a224f91dd",
            "0cac821cd21d443494ea7fe97a30bb07",
            "1e1bbe9b31ed4223932679a41c2eedcc",
            "25b634376e0c46278533e752955b6127",
            "4b0416d401fa433caa1d6a69e953db74",
            "3a3264ccbb7343b787832ede1d258539",
            "4537b9e8001349e994d52a9d6e042991"
          ]
        },
        "id": "3nzuG0u67Jm5",
        "outputId": "8aa49040-1766-44a0-b6e2-e6ae8442be4c"
      },
      "outputs": [],
      "source": [
        "tokenizer = BertTokenizer.from_pretrained(\"bert-base-uncased\")"
      ]
    },
    {
      "cell_type": "code",
      "execution_count": null,
      "metadata": {
        "id": "c3bbbmAp7LfY"
      },
      "outputs": [],
      "source": [
        "import torch\n",
        "\n",
        "class CustomDataSet(torch.utils.data.Dataset):\n",
        "    def __init__(self, df, tokenizer, max_len, target_list):\n",
        "        self.df = df\n",
        "        self.tokenizer = tokenizer\n",
        "        self.max_len = max_len\n",
        "        self.title = self.df['comment'].astype(str)  # Ensure comments are strings\n",
        "        self.targets = self.df[target_list].values[:, 2:].astype(np.float32)  # Convert targets to float32\n",
        "\n",
        "    def __len__(self):\n",
        "        return len(self.title)\n",
        "\n",
        "    def __getitem__(self, index):\n",
        "        title = self.title[index]\n",
        "        title = \" \".join(title.split())\n",
        "\n",
        "        inputs = self.tokenizer.encode_plus(\n",
        "            title,\n",
        "            None,\n",
        "            add_special_tokens=True,\n",
        "            max_length=self.max_len,\n",
        "            padding='max_length',\n",
        "            return_token_type_ids=True,\n",
        "            truncation=True,\n",
        "            return_attention_mask=True,\n",
        "            return_tensors='pt'\n",
        "        )\n",
        "\n",
        "        return {\n",
        "            'input_ids': inputs['input_ids'].flatten(),\n",
        "            'attention_mask': inputs['attention_mask'].flatten(),\n",
        "            'token_type_ids': inputs['token_type_ids'].flatten(),\n",
        "            'targets': torch.tensor(self.targets[index])\n",
        "        }\n"
      ]
    },
    {
      "cell_type": "code",
      "execution_count": null,
      "metadata": {
        "colab": {
          "base_uri": "https://localhost:8080/"
        },
        "id": "vmoLGBCYv1Hv",
        "outputId": "ff3d89c9-baa1-463f-fee9-6c27732bd268"
      },
      "outputs": [],
      "source": [
        "len(df[target_list].values[0, 2:])"
      ]
    },
    {
      "cell_type": "code",
      "execution_count": null,
      "metadata": {
        "id": "0As5UX-A7Ntl"
      },
      "outputs": [],
      "source": [
        "train_size = 0.8\n",
        "df = df.sample(frac=train_size, random_state=200).reset_index(drop=True)\n",
        "val_df = df.drop(df.index).reset_index(drop=True)"
      ]
    },
    {
      "cell_type": "code",
      "execution_count": null,
      "metadata": {
        "id": "jIWeM3Hs7RKE"
      },
      "outputs": [],
      "source": [
        "train_dataset = CustomDataSet(df, tokenizer, MAX_LEN, target_list)\n",
        "valid_dataset = CustomDataSet(df, tokenizer, MAX_LEN, target_list)"
      ]
    },
    {
      "cell_type": "code",
      "execution_count": null,
      "metadata": {
        "id": "_pj3xcYh7SBd"
      },
      "outputs": [],
      "source": [
        "train_data_loader = torch.utils.data.DataLoader(\n",
        "    train_dataset,\n",
        "    shuffle=True,\n",
        "    batch_size=TRAIN_BATCH_SIZE,\n",
        "    num_workers=0\n",
        ")\n",
        "val_data_loader = torch.utils.data.DataLoader(\n",
        "    valid_dataset,\n",
        "    shuffle=False,\n",
        "    batch_size=VALID_BATCH_SIZE,\n",
        "    num_workers=0\n",
        ")\n",
        "\n"
      ]
    },
    {
      "cell_type": "code",
      "execution_count": null,
      "metadata": {
        "colab": {
          "base_uri": "https://localhost:8080/"
        },
        "id": "rh7WFZ1W7Tlq",
        "outputId": "a6031982-8103-414c-ea2a-198467ce5a90"
      },
      "outputs": [],
      "source": [
        "device = torch.device('cuda') if torch.cuda.is_available() else torch.device('cpu')\n",
        "print(device)"
      ]
    },
    {
      "cell_type": "code",
      "execution_count": null,
      "metadata": {
        "id": "N5gxaYvv7Vbu"
      },
      "outputs": [],
      "source": [
        "def load_ckp(checkpoint_fpath, mode, optimizer):\n",
        "    checkpoint = torch.load(checkpoint_fpath)\n",
        "    model.load_state_dict(checkpoint['optimizer'])\n",
        "    optimizer.load_state_dict(checkpoint['optimizer'])\n",
        "    valid_loss_min = checkpoint['valid_loss_min']\n",
        "    return model, optimizer, checkpoint['epoch'], valid_loss_min.item()\n",
        "def save_ckp(state, is_best, checkpoint_path, best_model_path):\n",
        "    f_path = checkpoint_path\n",
        "    torch.save(state, f_path)\n",
        "    if is_best:\n",
        "        best_fpath = best_model_path\n",
        "        shutil.copyfile(f_path, best_fpath)"
      ]
    },
    {
      "cell_type": "code",
      "execution_count": null,
      "metadata": {
        "colab": {
          "base_uri": "https://localhost:8080/"
        },
        "id": "WEpg_Rj37X4O",
        "outputId": "2caac28b-9395-447b-8b59-43f92c1f1aac"
      },
      "outputs": [],
      "source": [
        "class BERTClass(nn.Module):\n",
        "    def __init__(self):\n",
        "        super(BERTClass, self).__init__()\n",
        "        self.bert_model = BertModel.from_pretrained(\"bert-base-uncased\", return_dict=True)\n",
        "        self.dropout = nn.Dropout(0.3)\n",
        "        self.linear = nn.Linear(768, 25)\n",
        "    def forward(self, input_ids, attention_mask, token_type_ids):\n",
        "        output = self.bert_model(input_ids, attention_mask, token_type_ids)\n",
        "        output_dropout = self.dropout(output.pooler_output)\n",
        "        output = self.linear(output_dropout)\n",
        "        return output\n",
        "model = BERTClass()\n",
        "model.to(device)"
      ]
    },
    {
      "cell_type": "code",
      "execution_count": null,
      "metadata": {
        "colab": {
          "base_uri": "https://localhost:8080/",
          "height": 760
        },
        "id": "t_Ra80bp6_hx",
        "outputId": "95e69530-f495-4df3-a88f-bd3362a9641d"
      },
      "outputs": [],
      "source": [
        "from rich import print\n",
        "print(model)\n"
      ]
    },
    {
      "cell_type": "code",
      "execution_count": null,
      "metadata": {
        "id": "AjmS0iDy7cED"
      },
      "outputs": [],
      "source": [
        "def loss_fn(outputs, targets):\n",
        "    return nn.BCEWithLogitsLoss()(outputs,targets)\n",
        "optimizer = torch.optim.Adam(params=model.parameters(), lr=LEARNING_RATE)\n"
      ]
    },
    {
      "cell_type": "code",
      "execution_count": null,
      "metadata": {
        "id": "AmoiERCp4zV8"
      },
      "outputs": [],
      "source": [
        "val_targets=[]\n",
        "val_outputs=[]"
      ]
    },
    {
      "cell_type": "code",
      "execution_count": null,
      "metadata": {
        "colab": {
          "base_uri": "https://localhost:8080/"
        },
        "id": "SmoYcg7K_YLO",
        "outputId": "40f520f3-4b09-4201-afb5-cb4a0e9cd289"
      },
      "outputs": [],
      "source": [
        "pip install torchmetrics"
      ]
    },
    {
      "cell_type": "code",
      "execution_count": null,
      "metadata": {
        "id": "rwpresiN-FE-"
      },
      "outputs": [],
      "source": [
        "import torchmetrics"
      ]
    },
    {
      "cell_type": "code",
      "execution_count": null,
      "metadata": {
        "id": "kDPCvOpP7emk"
      },
      "outputs": [],
      "source": [
        "import numpy as np\n",
        "import torchmetrics\n",
        "import torch\n",
        "\n",
        "def save_ckp(state, is_best, checkpoint_path, best_model_path):\n",
        "    \"\"\"\n",
        "    Saves the checkpoint and optionally the best model if `is_best` is True.\n",
        "    \"\"\"\n",
        "    torch.save(state, checkpoint_path)\n",
        "    if is_best:\n",
        "        torch.save(state, best_model_path)\n",
        "\n",
        "def train_model(n_epochs, training_loader, validation_loader, model,\n",
        "                optimizer, loss_fn, device, checkpoint_path, best_model_path):\n",
        "    # Initialize tracker for minimum validation loss\n",
        "    valid_loss_min = np.Inf\n",
        "\n",
        "    # Initialize the MultilabelAccuracy metric and move it to the correct device\n",
        "    multilabel_accuracy = torchmetrics.classification.MultilabelAccuracy(num_labels=25).to(device)\n",
        "\n",
        "    # Move the model to the correct device\n",
        "    model.to(device)\n",
        "\n",
        "    for epoch in range(1, n_epochs + 1):\n",
        "        train_loss = 0.0\n",
        "        valid_loss = 0.0\n",
        "        # Reset accuracy tracking for the new epoch\n",
        "        multilabel_accuracy.reset()\n",
        "\n",
        "        # Set model to training mode\n",
        "        model.train()\n",
        "        print(f'############# Epoch {epoch}: Training Start #############')\n",
        "\n",
        "        # Training loop\n",
        "        for batch_idx, data in enumerate(training_loader):\n",
        "            ids = data['input_ids'].to(device, dtype=torch.long)\n",
        "            mask = data['attention_mask'].to(device, dtype=torch.long)\n",
        "            token_type_ids = data['token_type_ids'].to(device, dtype=torch.long)\n",
        "            targets = data['targets'].to(device, dtype=torch.float)\n",
        "\n",
        "            outputs = model(ids, mask, token_type_ids)\n",
        "\n",
        "            loss = loss_fn(outputs, targets)\n",
        "            train_loss += loss.item()\n",
        "\n",
        "            optimizer.zero_grad()\n",
        "            loss.backward()\n",
        "            optimizer.step()\n",
        "\n",
        "            # Update the metric\n",
        "            multilabel_accuracy.update(outputs, targets)\n",
        "\n",
        "        # Compute the average accuracy over the epoch\n",
        "        epoch_accuracy = multilabel_accuracy.compute()\n",
        "        print(f'Epoch {epoch} Train Acc {epoch_accuracy}')\n",
        "\n",
        "        # Compute the average loss\n",
        "        train_loss /= len(training_loader)\n",
        "        print(f'############# Epoch {epoch}: Training End #############')\n",
        "\n",
        "        # Validation phase\n",
        "        print(f'############# Epoch {epoch}: Validation Start #############')\n",
        "        model.eval()\n",
        "        val_targets = []\n",
        "        val_outputs = []\n",
        "\n",
        "        with torch.no_grad():\n",
        "            for batch_idx, data in enumerate(validation_loader):\n",
        "                ids = data['input_ids'].to(device, dtype=torch.long)\n",
        "                mask = data['attention_mask'].to(device, dtype=torch.long)\n",
        "                token_type_ids = data['token_type_ids'].to(device, dtype=torch.long)\n",
        "                targets = data['targets'].to(device, dtype=torch.float)\n",
        "\n",
        "                outputs = model(ids, mask, token_type_ids)\n",
        "                loss = loss_fn(outputs, targets)\n",
        "                valid_loss += loss.item()\n",
        "\n",
        "                # Collecting outputs for further evaluation\n",
        "                val_targets.extend(targets.cpu().detach().numpy().tolist())\n",
        "                val_outputs.extend(torch.sigmoid(outputs).cpu().detach().numpy().tolist())\n",
        "\n",
        "        # Compute the average validation loss\n",
        "        valid_loss /= len(validation_loader)\n",
        "        print(f'############# Epoch {epoch}: Validation End #############')\n",
        "        print(f'Epoch: {epoch} \\tAverage Training Loss: {train_loss:.6f} \\tAverage Validation Loss: {valid_loss:.6f}')\n",
        "\n",
        "        # Save checkpoint\n",
        "        checkpoint = {\n",
        "            'epoch': epoch + 1,\n",
        "            'valid_loss_min': valid_loss,\n",
        "            'state_dict': model.state_dict(),\n",
        "            'optimizer': optimizer.state_dict(),\n",
        "        }\n",
        "        save_ckp(checkpoint, False, checkpoint_path, best_model_path)\n",
        "\n",
        "        # Save the model if validation loss has decreased\n",
        "        if valid_loss <= valid_loss_min:\n",
        "            print(f'Validation loss decreased ({valid_loss_min:.6f} --> {valid_loss:.6f}). Saving model ...')\n",
        "            save_ckp(checkpoint, True, checkpoint_path, best_model_path)\n",
        "            valid_loss_min = valid_loss\n",
        "\n",
        "        print(f'############# Epoch {epoch} Done #############\\n')\n",
        "\n",
        "    return model\n"
      ]
    },
    {
      "cell_type": "code",
      "execution_count": null,
      "metadata": {
        "colab": {
          "base_uri": "https://localhost:8080/"
        },
        "id": "XrDuOrCWFw_Q",
        "outputId": "fd8341c4-563a-45b8-9ee5-7fe5160da909"
      },
      "outputs": [],
      "source": [
        "device"
      ]
    },
    {
      "cell_type": "code",
      "execution_count": null,
      "metadata": {
        "colab": {
          "base_uri": "https://localhost:8080/",
          "height": 314
        },
        "id": "dED-Wp92B3al",
        "outputId": "19ee7d2b-254b-4c54-ba02-9f73af1d7f2b"
      },
      "outputs": [],
      "source": [
        "trained_model = train_model(\n",
        "    n_epochs=EPOCHS,\n",
        "    training_loader=train_data_loader,\n",
        "    validation_loader=val_data_loader,\n",
        "    model=model,\n",
        "    optimizer=optimizer,\n",
        "    loss_fn=loss_fn,\n",
        "    device=device,\n",
        "    checkpoint_path=\"./curr_ckpt\",  # Adjust path as necessary\n",
        "    best_model_path='./best.pt'     # Adjust path as necessary\n",
        ")"
      ]
    },
    {
      "cell_type": "markdown",
      "metadata": {
        "id": "8QDtE4apDLAe"
      },
      "source": [
        "# Testing With Other Data"
      ]
    },
    {
      "cell_type": "code",
      "execution_count": null,
      "metadata": {
        "colab": {
          "base_uri": "https://localhost:8080/",
          "height": 690
        },
        "id": "ga0TOjeN0_WP",
        "outputId": "9762922a-dcf6-4d87-d93c-63fbad463657"
      },
      "outputs": [],
      "source": [
        "df.head()"
      ]
    },
    {
      "cell_type": "code",
      "execution_count": null,
      "metadata": {
        "colab": {
          "base_uri": "https://localhost:8080/"
        },
        "id": "jYD9JIMH05-H",
        "outputId": "e5da86f4-9940-49e2-ed7f-3b7ef6e8691a"
      },
      "outputs": [],
      "source": [
        "len(df.columns[2:].to_list())"
      ]
    },
    {
      "cell_type": "code",
      "execution_count": null,
      "metadata": {
        "colab": {
          "base_uri": "https://localhost:8080/",
          "height": 83
        },
        "id": "SrvVZGCP9lhd",
        "outputId": "67c2513b-f6a5-4a8b-d472-21fcc576cd51"
      },
      "outputs": [],
      "source": [
        "# example = df['Comment'][0]\n",
        "\n",
        "#TESTING With OTHER DATA\n",
        "example = \"This professor is literally the worst professor at Georgia Tech. He was the only professor for Multi whenever I had to take him. He literally doesn't teach he only looks at power points with problems that are already done and instead of explaining concepts he says all the concepts are easy and he also has a strong accent that is hard to understand.\"\n",
        "encodings = tokenizer.encode_plus(\n",
        "            example,\n",
        "            None,\n",
        "            add_special_tokens=True,\n",
        "            max_length=MAX_LEN,\n",
        "            padding='max_length',\n",
        "            return_token_type_ids=True,\n",
        "            truncation=True,\n",
        "            return_attention_mask=True,\n",
        "            return_tensors='pt'\n",
        "        )\n",
        "\n",
        "trained_model.eval()\n",
        "\n",
        "with torch.no_grad():\n",
        "  ids = encodings['input_ids'].to(device, dtype = torch.long)\n",
        "  mask = encodings['attention_mask'].to(device, dtype = torch.long)\n",
        "  token_type_ids = encodings['token_type_ids'].to(device, dtype = torch.long)\n",
        "  output = trained_model(ids, mask, token_type_ids)\n",
        "  final_output = torch.sigmoid(output).cpu().detach().numpy().tolist()[0]\n",
        "  tags = df.columns[2:].to_list()\n",
        "\n",
        "  tags_assigned = [tag for tag, value in zip(tags, final_output) if value > 0.2]\n",
        "  print(\"highest probability\")\n",
        "  print(tags_assigned)\n",
        "\n",
        "  print(\"top 3\")\n",
        "  top_indices = np.argsort(final_output)[-3:][::-1].tolist()\n",
        "\n",
        "  # Get the corresponding tags\n",
        "  top_tags = [tags[i] for i in top_indices]\n",
        "  print(top_tags)\n",
        "\n",
        "\n",
        "\n"
      ]
    },
    {
      "cell_type": "markdown",
      "metadata": {
        "id": "x51LIcrIAcVv"
      },
      "source": [
        "# Evaluating Model And Calculating Accuracy on New Data"
      ]
    },
    {
      "cell_type": "code",
      "execution_count": null,
      "metadata": {
        "id": "FpVD1KYTCFRS"
      },
      "outputs": [],
      "source": [
        "import pandas as pd\n",
        "test_df = pd.read_csv('test.csv')\n",
        "test_df = test_df.drop(['Unnamed: 0'], axis=1)\n",
        "test_df = test_df[test_df['Comment'].str.len() >= 200]"
      ]
    },
    {
      "cell_type": "code",
      "execution_count": null,
      "metadata": {
        "colab": {
          "base_uri": "https://localhost:8080/",
          "height": 690
        },
        "id": "OpCEkY9N_76N",
        "outputId": "4a57a52b-defb-4602-a272-6aaaf1708326"
      },
      "outputs": [],
      "source": [
        "test_df.head()"
      ]
    },
    {
      "cell_type": "code",
      "execution_count": null,
      "metadata": {
        "id": "_IKaeBD9_9yW"
      },
      "outputs": [],
      "source": [
        "import numpy as np\n",
        "arrCol = np.array(test_df.columns[6:])"
      ]
    },
    {
      "cell_type": "code",
      "execution_count": null,
      "metadata": {
        "id": "GUj0BhsRAEHr"
      },
      "outputs": [],
      "source": [
        "def calculate_accuracy(predictions, actuals):\n",
        "    correct_preds = 0\n",
        "    total_tags = 0\n",
        "\n",
        "    for (pred_id, pred_tags), (actual_id, actual_tags) in zip(predictions, actuals):\n",
        "        if pred_id != actual_id:\n",
        "            raise ValueError(f\"Mismatched IDs: {pred_id} in predictions does not match {actual_id} in actuals\")\n",
        "        correct_preds += len(set(pred_tags) & set(actual_tags))\n",
        "        total_tags += len(set(actual_tags))\n",
        "\n",
        "    return correct_preds / total_tags if total_tags > 0 else 0\n"
      ]
    },
    {
      "cell_type": "code",
      "execution_count": null,
      "metadata": {
        "colab": {
          "base_uri": "https://localhost:8080/"
        },
        "id": "pv8qKQ3bl2-S",
        "outputId": "8501c129-0046-47de-c35b-85dd132a62d3"
      },
      "outputs": [],
      "source": [
        "test_df.columns[2:]"
      ]
    },
    {
      "cell_type": "markdown",
      "metadata": {
        "id": "r6joA-Ntx4Rl"
      },
      "source": [
        "# Old accuracy"
      ]
    },
    {
      "cell_type": "code",
      "execution_count": null,
      "metadata": {
        "id": "b9bQmtFcx4BM"
      },
      "outputs": [],
      "source": []
    },
    {
      "cell_type": "code",
      "execution_count": null,
      "metadata": {
        "colab": {
          "base_uri": "https://localhost:8080/",
          "height": 1000
        },
        "id": "Cg8kbCl0AlBz",
        "outputId": "4e88c0ad-a6de-4db2-e331-bb6b4b540f71"
      },
      "outputs": [],
      "source": [
        "# all_predictions = []\n",
        "# all_actuals = []\n",
        "\n",
        "# for index, row in test_df.iterrows():\n",
        "#     comment = row['Comment']\n",
        "#     actual_tags = [tag for tag, value in zip(test_df.columns[5:], row[1:]) if value == 1]\n",
        "\n",
        "#     # Preprocess and tokenize the comment\n",
        "#     encodings = tokenizer.encode_plus(\n",
        "#         comment,\n",
        "#         None,\n",
        "#         add_special_tokens=True,\n",
        "#         max_length=MAX_LEN,\n",
        "#         padding='max_length',\n",
        "#         return_token_type_ids=True,\n",
        "#         truncation=True,\n",
        "#         return_attention_mask=True,\n",
        "#         return_tensors='pt'\n",
        "#     )\n",
        "\n",
        "#     # Make prediction\n",
        "#     model.eval()\n",
        "#     with torch.no_grad():\n",
        "#         ids = encodings['input_ids'].to(device, dtype=torch.long)\n",
        "#         mask = encodings['attention_mask'].to(device, dtype=torch.long)\n",
        "#         token_type_ids = encodings['token_type_ids'].to(device, dtype=torch.long)\n",
        "#         output = model(ids, mask, token_type_ids)\n",
        "#         final_output = torch.sigmoid(output).cpu().detach().numpy().tolist()[0]\n",
        "\n",
        "#         tags = test_df.columns[5:].to_list()\n",
        "#         predicted_tags = [tags[i] for i in np.argsort(final_output)[-3:][::-1] if final_output[i] > 0.2]\n",
        "\n",
        "#         all_predictions.append((index, predicted_tags))\n",
        "#         all_actuals.append((index, actual_tags))\n",
        "\n",
        "# # Calculate and print the accuracy\n",
        "# accuracy = calculate_accuracy(all_predictions, all_actuals)\n",
        "# print(all_predictions)\n",
        "# print(all_actuals)\n",
        "# print('Accuracy:', accuracy)\n"
      ]
    },
    {
      "cell_type": "code",
      "execution_count": null,
      "metadata": {
        "colab": {
          "base_uri": "https://localhost:8080/"
        },
        "id": "6y57MoKAuPca",
        "outputId": "22323905-12b7-4ea3-d199-9a9ee25d178c"
      },
      "outputs": [],
      "source": []
    },
    {
      "cell_type": "markdown",
      "metadata": {
        "id": "PY4uhs6Px90Q"
      },
      "source": [
        "# New Accuracy"
      ]
    },
    {
      "cell_type": "code",
      "execution_count": null,
      "metadata": {
        "colab": {
          "base_uri": "https://localhost:8080/",
          "height": 179
        },
        "id": "hbV12MyuxG93",
        "outputId": "a8e97bd2-e99f-49ac-a936-037027edec5f"
      },
      "outputs": [],
      "source": [
        "num_labels = len(test_df.columns[5:])+1\n"
      ]
    },
    {
      "cell_type": "code",
      "execution_count": null,
      "metadata": {
        "colab": {
          "base_uri": "https://localhost:8080/",
          "height": 34
        },
        "id": "Hm3xoQajBB55",
        "outputId": "80eab678-5581-4cb5-e5c7-fe63ee708586"
      },
      "outputs": [],
      "source": [
        "import torch\n",
        "import torchmetrics\n",
        "import pandas as pd\n",
        "\n",
        "# Load your test data\n",
        "test_df = pd.read_csv('test.csv')\n",
        "test_df = test_df.drop(['Unnamed: 0'], axis=1)\n",
        "test_df = test_df[test_df['Comment'].str.len() >= 200]\n",
        "\n",
        "num_labels = len(test_df.columns[5:])+1\n",
        "\n",
        "# Initialize the MultilabelAccuracy metric\n",
        "accuracy_metric = torchmetrics.classification.MultilabelAccuracy(num_labels=num_labels, threshold=0.2, average='macro')\n",
        "accuracy_metric = accuracy_metric.to(device)\n",
        "\n",
        "for index, row in test_df.iterrows():\n",
        "    comment = row['Comment']\n",
        "    actual_tags = torch.tensor([row[5:]], dtype=torch.float).to(device)\n",
        "\n",
        "    # Append the value of the new tag \"Tag_Would take again\" to the actual_tags tensor\n",
        "    new_tag_value = 1  # Set the value according to your needs\n",
        "    actual_tags = torch.cat((actual_tags, torch.tensor([[new_tag_value]], dtype=torch.float).to(device)), dim=1)\n",
        "\n",
        "\n",
        "    # The rest of your processing and model prediction code follows...\n",
        "\n",
        "\n",
        "\n",
        "    # Make prediction\n",
        "    model.eval()\n",
        "    with torch.no_grad():\n",
        "        ids = encodings['input_ids'].to(device, dtype=torch.long)\n",
        "        mask = encodings['attention_mask'].to(device, dtype=torch.long)\n",
        "        token_type_ids = encodings['token_type_ids'].to(device, dtype=torch.long)\n",
        "        output = model(ids, mask, token_type_ids)\n",
        "\n",
        "        probabilities = torch.sigmoid(output).squeeze()\n",
        "\n",
        "    # Ensure probabilities have the same number of dimensions as actual_tags\n",
        "    if probabilities.ndim < actual_tags.ndim:\n",
        "        probabilities = probabilities.unsqueeze(0)\n",
        "\n",
        "    # Debugging: Print shapes to understand the mismatch\n",
        "    # print(f\"Shape of probabilities: {probabilities.shape}, Shape of actual_tags: {actual_tags.shape}\")\n",
        "\n",
        "    # Update the accuracy metric\n",
        "    accuracy_metric.update(probabilities, actual_tags)\n",
        "\n",
        "# Calculate final accuracy\n",
        "accuracy = accuracy_metric.compute()\n",
        "print('Accuracy:', accuracy.item())\n"
      ]
    },
    {
      "cell_type": "markdown",
      "metadata": {
        "id": "o6oRHI2B2N3i"
      },
      "source": [
        "# Ignore this below it's wip"
      ]
    },
    {
      "cell_type": "code",
      "execution_count": null,
      "metadata": {
        "colab": {
          "base_uri": "https://localhost:8080/"
        },
        "id": "GOxUuRAP3f1Y",
        "outputId": "0a3e0b4a-a77c-4830-8a46-c6ce8801757c"
      },
      "outputs": [],
      "source": [
        "pip install torchmetrics"
      ]
    },
    {
      "cell_type": "code",
      "execution_count": null,
      "metadata": {
        "colab": {
          "base_uri": "https://localhost:8080/"
        },
        "id": "aFMqJxMU3XPm",
        "outputId": "cff37f48-bd8c-4625-853a-eb2bb8b974d8"
      },
      "outputs": [],
      "source": [
        "pip install transformers\n"
      ]
    },
    {
      "cell_type": "code",
      "execution_count": null,
      "metadata": {
        "colab": {
          "base_uri": "https://localhost:8080/",
          "height": 399
        },
        "id": "_60CPTguyYMD",
        "outputId": "8ec7cf6b-308c-45c8-aa8e-20adedfe2412"
      },
      "outputs": [],
      "source": [
        "import torch\n",
        "import torch.nn as nn\n",
        "import pandas as pd\n",
        "from transformers import BertModel, BertTokenizer\n",
        "import torchmetrics\n",
        "\n",
        "# Define the BERTClass model\n",
        "class BERTClass(nn.Module):\n",
        "    def __init__(self):\n",
        "        super(BERTClass, self).__init__()\n",
        "        self.bert_model = BertModel.from_pretrained(\"bert-base-uncased\", return_dict=True)\n",
        "        self.dropout = nn.Dropout(0.3)\n",
        "        self.linear = nn.Linear(768, 25)\n",
        "\n",
        "    def forward(self, input_ids, attention_mask, token_type_ids):\n",
        "        output = self.bert_model(input_ids, attention_mask, token_type_ids)\n",
        "        output_dropout = self.dropout(output.pooler_output)\n",
        "        output = self.linear(output_dropout)\n",
        "        return output\n",
        "\n",
        "# Instantiate and load the saved model\n",
        "model = BERTClass()\n",
        "checkpoint = torch.load('best.pt', map_location=torch.device('cuda'))  # or 'cuda' if using GPU\n",
        "model.load_state_dict(checkpoint['state_dict'])\n",
        "model.eval()\n",
        "\n",
        "# Prepare the tokenizer\n",
        "tokenizer = BertTokenizer.from_pretrained('bert-base-uncased')\n",
        "\n",
        "# Load the test data\n",
        "test_df = pd.read_csv('test.csv')\n",
        "test_df = test_df.drop(['Unnamed: 0'], axis=1)\n",
        "test_df = test_df[test_df['Comment'].str.len() >= 200]\n",
        "\n",
        "# Define constants and initialize metrics\n",
        "MAX_LEN = 512  # Adjust as per your model's training\n",
        "num_labels = len(test_df.columns[5:]) + 1\n",
        "accuracy_metric = torchmetrics.classification.MultilabelAccuracy(num_labels=num_labels, threshold=0.2, average='macro')\n",
        "\n",
        "# Predict and calculate accuracy\n",
        "for index, row in test_df.iterrows():\n",
        "    comment = row['Comment']\n",
        "    actual_tags = torch.tensor([row[5:]], dtype=torch.float)\n",
        "\n",
        "    # Tokenize the comment\n",
        "    encodings = tokenizer.encode_plus(\n",
        "        comment,\n",
        "        add_special_tokens=True,\n",
        "        max_length=MAX_LEN,\n",
        "        padding='max_length',\n",
        "        return_token_type_ids=True,\n",
        "        truncation=True,\n",
        "        return_attention_mask=True,\n",
        "        return_tensors='pt'\n",
        "    )\n",
        "\n",
        "    # Make prediction\n",
        "    with torch.no_grad():\n",
        "        ids = encodings['input_ids']\n",
        "        mask = encodings['attention_mask']\n",
        "        token_type_ids = encodings['token_type_ids']\n",
        "        output = model(ids, mask, token_type_ids)\n",
        "        probabilities = torch.sigmoid(output).squeeze()\n",
        "\n",
        "    # Ensure probabilities have the same number of dimensions as actual_tags\n",
        "    if probabilities.ndim < actual_tags.ndim:\n",
        "        probabilities = probabilities.unsqueeze(0)\n",
        "\n",
        "    # Append the value of the new tag \"Tag_Would take again\"\n",
        "    new_tag_value = 1\n",
        "    actual_tags = torch.cat((actual_tags, torch.tensor([[new_tag_value]], dtype=torch.float)), dim=1)\n",
        "\n",
        "    # Update the accuracy metric\n",
        "    accuracy_metric.update(probabilities, actual_tags)\n",
        "\n",
        "# Calculate final accuracy\n",
        "accuracy = accuracy_metric.compute()\n",
        "print('Accuracy:', accuracy.item())\n"
      ]
    },
    {
      "cell_type": "code",
      "execution_count": null,
      "metadata": {
        "colab": {
          "base_uri": "https://localhost:8080/"
        },
        "id": "n7ek_KVg3Tom",
        "outputId": "fa843f4c-b92e-4e0b-ef69-cd995e38aeba"
      },
      "outputs": [],
      "source": [
        "modelTesting = BERTClass()\n",
        "model"
      ]
    },
    {
      "cell_type": "code",
      "execution_count": null,
      "metadata": {
        "id": "Hk4-bq0EUTCX"
      },
      "outputs": [],
      "source": [
        "torch.save(model.state_dict(), 'checking.pt')"
      ]
    },
    {
      "cell_type": "code",
      "execution_count": null,
      "metadata": {
        "colab": {
          "base_uri": "https://localhost:8080/"
        },
        "id": "dt8mF5K4TR_0",
        "outputId": "d3c03ae2-b720-441d-c555-d71fbac4c204"
      },
      "outputs": [],
      "source": [
        "modelTesting.load_state_dict(torch.load('checking.pt'))\n",
        "modelTesting.to(device)"
      ]
    },
    {
      "cell_type": "code",
      "execution_count": null,
      "metadata": {
        "colab": {
          "base_uri": "https://localhost:8080/",
          "height": 34
        },
        "id": "_Jf-QdpAT9oE",
        "outputId": "fa73e4fe-25cb-4bae-da81-01498a25d1cb"
      },
      "outputs": [],
      "source": [
        "import torch\n",
        "import torchmetrics\n",
        "import pandas as pd\n",
        "\n",
        "# Load your test data\n",
        "test_df = pd.read_csv('test.csv')\n",
        "test_df = test_df.drop(['Unnamed: 0'], axis=1)\n",
        "test_df = test_df[test_df['Comment'].str.len() >= 200]\n",
        "\n",
        "num_labels = len(test_df.columns[5:])+1\n",
        "\n",
        "# Initialize the MultilabelAccuracy metric\n",
        "accuracy_metric = torchmetrics.classification.MultilabelAccuracy(num_labels=num_labels, threshold=0.2, average='macro')\n",
        "accuracy_metric = accuracy_metric.to(device)\n",
        "\n",
        "for index, row in test_df.iterrows():\n",
        "    comment = row['Comment']\n",
        "    actual_tags = torch.tensor([row[5:]], dtype=torch.float).to(device)\n",
        "\n",
        "    # Append the value of the new tag \"Tag_Would take again\" to the actual_tags tensor\n",
        "    new_tag_value = 1  # Set the value according to your needs\n",
        "    actual_tags = torch.cat((actual_tags, torch.tensor([[new_tag_value]], dtype=torch.float).to(device)), dim=1)\n",
        "\n",
        "\n",
        "    # The rest of your processing and model prediction code follows...\n",
        "\n",
        "\n",
        "\n",
        "    # Make prediction\n",
        "    modelTesting.eval()\n",
        "    with torch.no_grad():\n",
        "        ids = encodings['input_ids'].to(device, dtype=torch.long)\n",
        "        mask = encodings['attention_mask'].to(device, dtype=torch.long)\n",
        "        token_type_ids = encodings['token_type_ids'].to(device, dtype=torch.long)\n",
        "        output = modelTesting(ids, mask, token_type_ids)\n",
        "\n",
        "        probabilities = torch.sigmoid(output).squeeze()\n",
        "\n",
        "    # Ensure probabilities have the same number of dimensions as actual_tags\n",
        "    if probabilities.ndim < actual_tags.ndim:\n",
        "        probabilities = probabilities.unsqueeze(0)\n",
        "\n",
        "    # Debugging: Print shapes to understand the mismatch\n",
        "    # print(f\"Shape of probabilities: {probabilities.shape}, Shape of actual_tags: {actual_tags.shape}\")\n",
        "\n",
        "    # Update the accuracy metric\n",
        "    accuracy_metric.update(probabilities, actual_tags)\n",
        "\n",
        "# Calculate final accuracy\n",
        "accuracy = accuracy_metric.compute()\n",
        "print('Accuracy:', accuracy.item())\n"
      ]
    },
    {
      "cell_type": "code",
      "execution_count": null,
      "metadata": {
        "colab": {
          "base_uri": "https://localhost:8080/"
        },
        "id": "iuj2Z4HYUuCq",
        "outputId": "210bb7d7-7181-4950-b6d5-1b80706b8610"
      },
      "outputs": [],
      "source": [
        "from google.colab import drive\n",
        "drive.mount('/content/drive')\n"
      ]
    },
    {
      "cell_type": "code",
      "execution_count": null,
      "metadata": {
        "colab": {
          "base_uri": "https://localhost:8080/",
          "height": 35
        },
        "id": "F860sjHvVNxo",
        "outputId": "ba08bb27-878f-4355-e0c7-f0ca04323c7a"
      },
      "outputs": [],
      "source": [
        "import shutil\n",
        "\n",
        "# Path to your file in Colab environment\n",
        "file_path_colab = 'checking.pt'\n",
        "\n",
        "# Destination path in Google Drive\n",
        "file_path_drive = '/content/drive/My Drive/checking.pt'\n",
        "\n",
        "# Copy the file\n",
        "shutil.copy(file_path_colab, file_path_drive)\n"
      ]
    },
    {
      "cell_type": "markdown",
      "metadata": {
        "id": "SK3KWOHhVbIR"
      },
      "source": [
        "###  Coding and testing the thing"
      ]
    },
    {
      "cell_type": "code",
      "execution_count": null,
      "metadata": {
        "colab": {
          "base_uri": "https://localhost:8080/"
        },
        "id": "TTgeU1bTahwO",
        "outputId": "7abf51e1-4ddc-4ec2-97c8-2a5b32e2532c"
      },
      "outputs": [],
      "source": [
        "target_list"
      ]
    },
    {
      "cell_type": "code",
      "execution_count": null,
      "metadata": {
        "id": "TX-PNr4NcQy_"
      },
      "outputs": [],
      "source": [
        "# IMPORTS\n"
      ]
    },
    {
      "cell_type": "code",
      "execution_count": null,
      "metadata": {
        "colab": {
          "base_uri": "https://localhost:8080/"
        },
        "id": "kisu9x5XbnN3",
        "outputId": "e9a23fff-104c-45d6-8ce5-3d157f3e5d94"
      },
      "outputs": [],
      "source": [
        "class BERTClass(nn.Module):\n",
        "    def __init__(self):\n",
        "        super(BERTClass, self).__init__()\n",
        "        self.bert_model = BertModel.from_pretrained(\"bert-base-uncased\", return_dict=True)\n",
        "        self.dropout = nn.Dropout(0.3)\n",
        "        self.linear = nn.Linear(768, 34)\n",
        "    def forward(self, input_ids, attention_mask, token_type_ids):\n",
        "        output = self.bert_model(input_ids, attention_mask, token_type_ids)\n",
        "        output_dropout = self.dropout(output.pooler_output)\n",
        "        output = self.linear(output_dropout)\n",
        "        return output\n",
        "modelTesting = BERTClass()\n",
        "modelTesting.to(device)"
      ]
    },
    {
      "cell_type": "code",
      "execution_count": null,
      "metadata": {
        "colab": {
          "base_uri": "https://localhost:8080/"
        },
        "id": "i9Cri4gUb0k2",
        "outputId": "da06b0cc-1c7f-439a-b712-7f93e30f18be"
      },
      "outputs": [],
      "source": [
        "modelTesting.load_state_dict(torch.load('checking.pt'))"
      ]
    },
    {
      "cell_type": "code",
      "execution_count": null,
      "metadata": {
        "id": "Gn2tiyBiZ6R0"
      },
      "outputs": [],
      "source": [
        "# example = df['Comment'][0]\n",
        "\n",
        "#TESTING With OTHER DATA\n",
        "def predict_labels(text):\n",
        "# example = \"This professor is literally the worst professor at Georgia Tech. He was the only professor for Multi whenever I had to take him. He literally doesn't teach he only looks at power points with problems that are already done and instead of explaining concepts he says all the concepts are easy and he also has a strong accent that is hard to understand.\"\n",
        "  example = text\n",
        "  encodings = tokenizer.encode_plus(\n",
        "            example,\n",
        "            None,\n",
        "            add_special_tokens=True,\n",
        "            max_length=MAX_LEN,\n",
        "            padding='max_length',\n",
        "            return_token_type_ids=True,\n",
        "            truncation=True,\n",
        "            return_attention_mask=True,\n",
        "            return_tensors='pt'\n",
        "        )\n",
        "\n",
        "  model.eval()\n",
        "\n",
        "  with torch.no_grad():\n",
        "    ids = encodings['input_ids'].to(device, dtype = torch.long)\n",
        "    mask = encodings['attention_mask'].to(device, dtype = torch.long)\n",
        "    token_type_ids = encodings['token_type_ids'].to(device, dtype = torch.long)\n",
        "    output = model(ids, mask, token_type_ids)\n",
        "    final_output = torch.sigmoid(output).cpu().detach().numpy().tolist()[0]\n",
        "    tags = df.columns[2:].to_list()\n",
        "\n",
        "    tags_assigned = [tag for tag, value in zip(tags, final_output) if value > 0.2]\n",
        "    print(\"highest probability\")\n",
        "    print(tags_assigned)\n",
        "\n",
        "    print(\"top 3\")\n",
        "    top_indices = np.argsort(final_output)[-3:][::-1].tolist()\n",
        "\n",
        "    # Get the corresponding tags\n",
        "    top_tags = [tags[i] for i in top_indices]\n",
        "    print(top_tags)\n",
        "\n",
        "\n",
        "\n"
      ]
    },
    {
      "cell_type": "code",
      "execution_count": null,
      "metadata": {
        "colab": {
          "base_uri": "https://localhost:8080/",
          "height": 83
        },
        "id": "iyRvuIJsayyK",
        "outputId": "54f257dd-bf53-430d-c59c-6a3c77063fd9"
      },
      "outputs": [],
      "source": [
        "predict_labels(\"This professor is literally the worst professor at Georgia Tech. He was the only professor for Multi whenever I had to take him. He literally doesn't teach he only looks at power points with problems that are already done and instead of explaining concepts he says all the concepts are easy and he also has a strong accent that is hard to understand.\")"
      ]
    },
    {
      "cell_type": "code",
      "execution_count": null,
      "metadata": {
        "id": "C69Sgbvi3yrs"
      },
      "outputs": [],
      "source": [
        "# Specify the path\n",
        "save_path = './TheFinalOne.pt'\n",
        "\n",
        "# Save the model state\n",
        "torch.save(model.state_dict(), save_path)"
      ]
    },
    {
      "cell_type": "code",
      "execution_count": null,
      "metadata": {
        "colab": {
          "base_uri": "https://localhost:8080/"
        },
        "id": "aWRConeHbkRA",
        "outputId": "06b29121-e43c-4cd6-8589-b72ef65af0a7"
      },
      "outputs": [],
      "source": [
        "from google.colab import drive\n",
        "drive.mount('/content/drive')\n"
      ]
    },
    {
      "cell_type": "code",
      "execution_count": null,
      "metadata": {
        "colab": {
          "base_uri": "https://localhost:8080/"
        },
        "id": "Qg1WcbtJ3nEB",
        "outputId": "aaa42e57-7142-4a6c-8512-5bf7d6d94dfa"
      },
      "outputs": [],
      "source": [
        "model"
      ]
    },
    {
      "cell_type": "code",
      "execution_count": null,
      "metadata": {
        "colab": {
          "base_uri": "https://localhost:8080/",
          "height": 35
        },
        "id": "R_nXJp6_1b58",
        "outputId": "8ada1ece-10cc-4911-ffee-7bd355eb5ecc"
      },
      "outputs": [],
      "source": [
        "import shutil\n",
        "shutil.copy('TheFinalOne.pt', '/content/drive/My Drive/')"
      ]
    },
    {
      "cell_type": "code",
      "execution_count": null,
      "metadata": {
        "id": "Ch6Dg6Tc1n_F"
      },
      "outputs": [],
      "source": []
    }
  ],
  "metadata": {
    "accelerator": "GPU",
    "colab": {
      "provenance": []
    },
    "kernelspec": {
      "display_name": "Python 3",
      "name": "python3"
    },
    "language_info": {
      "name": "python"
    },
    "widgets": {
      "application/vnd.jupyter.widget-state+json": {
        "09510229789c44d19133908e0476cb17": {
          "model_module": "@jupyter-widgets/base",
          "model_module_version": "1.2.0",
          "model_name": "LayoutModel",
          "state": {
            "_model_module": "@jupyter-widgets/base",
            "_model_module_version": "1.2.0",
            "_model_name": "LayoutModel",
            "_view_count": null,
            "_view_module": "@jupyter-widgets/base",
            "_view_module_version": "1.2.0",
            "_view_name": "LayoutView",
            "align_content": null,
            "align_items": null,
            "align_self": null,
            "border": null,
            "bottom": null,
            "display": null,
            "flex": null,
            "flex_flow": null,
            "grid_area": null,
            "grid_auto_columns": null,
            "grid_auto_flow": null,
            "grid_auto_rows": null,
            "grid_column": null,
            "grid_gap": null,
            "grid_row": null,
            "grid_template_areas": null,
            "grid_template_columns": null,
            "grid_template_rows": null,
            "height": null,
            "justify_content": null,
            "justify_items": null,
            "left": null,
            "margin": null,
            "max_height": null,
            "max_width": null,
            "min_height": null,
            "min_width": null,
            "object_fit": null,
            "object_position": null,
            "order": null,
            "overflow": null,
            "overflow_x": null,
            "overflow_y": null,
            "padding": null,
            "right": null,
            "top": null,
            "visibility": null,
            "width": null
          }
        },
        "0cac821cd21d443494ea7fe97a30bb07": {
          "model_module": "@jupyter-widgets/base",
          "model_module_version": "1.2.0",
          "model_name": "LayoutModel",
          "state": {
            "_model_module": "@jupyter-widgets/base",
            "_model_module_version": "1.2.0",
            "_model_name": "LayoutModel",
            "_view_count": null,
            "_view_module": "@jupyter-widgets/base",
            "_view_module_version": "1.2.0",
            "_view_name": "LayoutView",
            "align_content": null,
            "align_items": null,
            "align_self": null,
            "border": null,
            "bottom": null,
            "display": null,
            "flex": null,
            "flex_flow": null,
            "grid_area": null,
            "grid_auto_columns": null,
            "grid_auto_flow": null,
            "grid_auto_rows": null,
            "grid_column": null,
            "grid_gap": null,
            "grid_row": null,
            "grid_template_areas": null,
            "grid_template_columns": null,
            "grid_template_rows": null,
            "height": null,
            "justify_content": null,
            "justify_items": null,
            "left": null,
            "margin": null,
            "max_height": null,
            "max_width": null,
            "min_height": null,
            "min_width": null,
            "object_fit": null,
            "object_position": null,
            "order": null,
            "overflow": null,
            "overflow_x": null,
            "overflow_y": null,
            "padding": null,
            "right": null,
            "top": null,
            "visibility": null,
            "width": null
          }
        },
        "0db4bb4b2c894b45b15f65b066633114": {
          "model_module": "@jupyter-widgets/base",
          "model_module_version": "1.2.0",
          "model_name": "LayoutModel",
          "state": {
            "_model_module": "@jupyter-widgets/base",
            "_model_module_version": "1.2.0",
            "_model_name": "LayoutModel",
            "_view_count": null,
            "_view_module": "@jupyter-widgets/base",
            "_view_module_version": "1.2.0",
            "_view_name": "LayoutView",
            "align_content": null,
            "align_items": null,
            "align_self": null,
            "border": null,
            "bottom": null,
            "display": null,
            "flex": null,
            "flex_flow": null,
            "grid_area": null,
            "grid_auto_columns": null,
            "grid_auto_flow": null,
            "grid_auto_rows": null,
            "grid_column": null,
            "grid_gap": null,
            "grid_row": null,
            "grid_template_areas": null,
            "grid_template_columns": null,
            "grid_template_rows": null,
            "height": null,
            "justify_content": null,
            "justify_items": null,
            "left": null,
            "margin": null,
            "max_height": null,
            "max_width": null,
            "min_height": null,
            "min_width": null,
            "object_fit": null,
            "object_position": null,
            "order": null,
            "overflow": null,
            "overflow_x": null,
            "overflow_y": null,
            "padding": null,
            "right": null,
            "top": null,
            "visibility": null,
            "width": null
          }
        },
        "0e571025b0eb4f1e899d555d0c6ec287": {
          "model_module": "@jupyter-widgets/controls",
          "model_module_version": "1.5.0",
          "model_name": "HTMLModel",
          "state": {
            "_dom_classes": [],
            "_model_module": "@jupyter-widgets/controls",
            "_model_module_version": "1.5.0",
            "_model_name": "HTMLModel",
            "_view_count": null,
            "_view_module": "@jupyter-widgets/controls",
            "_view_module_version": "1.5.0",
            "_view_name": "HTMLView",
            "description": "",
            "description_tooltip": null,
            "layout": "IPY_MODEL_a24d9a3938994fc18cd2d36415daedc1",
            "placeholder": "​",
            "style": "IPY_MODEL_63be7976d51b4134bb5c5372bde8e057",
            "value": " 28.0/28.0 [00:00&lt;00:00, 1.49kB/s]"
          }
        },
        "1c07f135f5874323ade704db78dac005": {
          "model_module": "@jupyter-widgets/controls",
          "model_module_version": "1.5.0",
          "model_name": "HTMLModel",
          "state": {
            "_dom_classes": [],
            "_model_module": "@jupyter-widgets/controls",
            "_model_module_version": "1.5.0",
            "_model_name": "HTMLModel",
            "_view_count": null,
            "_view_module": "@jupyter-widgets/controls",
            "_view_module_version": "1.5.0",
            "_view_name": "HTMLView",
            "description": "",
            "description_tooltip": null,
            "layout": "IPY_MODEL_3a3264ccbb7343b787832ede1d258539",
            "placeholder": "​",
            "style": "IPY_MODEL_4537b9e8001349e994d52a9d6e042991",
            "value": " 570/570 [00:00&lt;00:00, 50.1kB/s]"
          }
        },
        "1e1bbe9b31ed4223932679a41c2eedcc": {
          "model_module": "@jupyter-widgets/controls",
          "model_module_version": "1.5.0",
          "model_name": "DescriptionStyleModel",
          "state": {
            "_model_module": "@jupyter-widgets/controls",
            "_model_module_version": "1.5.0",
            "_model_name": "DescriptionStyleModel",
            "_view_count": null,
            "_view_module": "@jupyter-widgets/base",
            "_view_module_version": "1.2.0",
            "_view_name": "StyleView",
            "description_width": ""
          }
        },
        "209cff7cf277488d988d789f9f66858b": {
          "model_module": "@jupyter-widgets/controls",
          "model_module_version": "1.5.0",
          "model_name": "FloatProgressModel",
          "state": {
            "_dom_classes": [],
            "_model_module": "@jupyter-widgets/controls",
            "_model_module_version": "1.5.0",
            "_model_name": "FloatProgressModel",
            "_view_count": null,
            "_view_module": "@jupyter-widgets/controls",
            "_view_module_version": "1.5.0",
            "_view_name": "ProgressView",
            "bar_style": "success",
            "description": "",
            "description_tooltip": null,
            "layout": "IPY_MODEL_dd9e9090401d4a53ba2a7db552c7e1dc",
            "max": 28,
            "min": 0,
            "orientation": "horizontal",
            "style": "IPY_MODEL_c6065b62a6464339a8d339d49dcd1fff",
            "value": 28
          }
        },
        "233eb2d459df4364b4d3a087f68ed893": {
          "model_module": "@jupyter-widgets/controls",
          "model_module_version": "1.5.0",
          "model_name": "DescriptionStyleModel",
          "state": {
            "_model_module": "@jupyter-widgets/controls",
            "_model_module_version": "1.5.0",
            "_model_name": "DescriptionStyleModel",
            "_view_count": null,
            "_view_module": "@jupyter-widgets/base",
            "_view_module_version": "1.2.0",
            "_view_name": "StyleView",
            "description_width": ""
          }
        },
        "2346b1c64d2a4d08abdd5fd678e302c8": {
          "model_module": "@jupyter-widgets/controls",
          "model_module_version": "1.5.0",
          "model_name": "FloatProgressModel",
          "state": {
            "_dom_classes": [],
            "_model_module": "@jupyter-widgets/controls",
            "_model_module_version": "1.5.0",
            "_model_name": "FloatProgressModel",
            "_view_count": null,
            "_view_module": "@jupyter-widgets/controls",
            "_view_module_version": "1.5.0",
            "_view_name": "ProgressView",
            "bar_style": "success",
            "description": "",
            "description_tooltip": null,
            "layout": "IPY_MODEL_09510229789c44d19133908e0476cb17",
            "max": 466062,
            "min": 0,
            "orientation": "horizontal",
            "style": "IPY_MODEL_b69fbb3ad2f9436d9d7edf9bfe556af4",
            "value": 466062
          }
        },
        "25530c2f1f484e25adcbde8c0eb035c3": {
          "model_module": "@jupyter-widgets/controls",
          "model_module_version": "1.5.0",
          "model_name": "FloatProgressModel",
          "state": {
            "_dom_classes": [],
            "_model_module": "@jupyter-widgets/controls",
            "_model_module_version": "1.5.0",
            "_model_name": "FloatProgressModel",
            "_view_count": null,
            "_view_module": "@jupyter-widgets/controls",
            "_view_module_version": "1.5.0",
            "_view_name": "ProgressView",
            "bar_style": "success",
            "description": "",
            "description_tooltip": null,
            "layout": "IPY_MODEL_25b634376e0c46278533e752955b6127",
            "max": 570,
            "min": 0,
            "orientation": "horizontal",
            "style": "IPY_MODEL_4b0416d401fa433caa1d6a69e953db74",
            "value": 570
          }
        },
        "25b634376e0c46278533e752955b6127": {
          "model_module": "@jupyter-widgets/base",
          "model_module_version": "1.2.0",
          "model_name": "LayoutModel",
          "state": {
            "_model_module": "@jupyter-widgets/base",
            "_model_module_version": "1.2.0",
            "_model_name": "LayoutModel",
            "_view_count": null,
            "_view_module": "@jupyter-widgets/base",
            "_view_module_version": "1.2.0",
            "_view_name": "LayoutView",
            "align_content": null,
            "align_items": null,
            "align_self": null,
            "border": null,
            "bottom": null,
            "display": null,
            "flex": null,
            "flex_flow": null,
            "grid_area": null,
            "grid_auto_columns": null,
            "grid_auto_flow": null,
            "grid_auto_rows": null,
            "grid_column": null,
            "grid_gap": null,
            "grid_row": null,
            "grid_template_areas": null,
            "grid_template_columns": null,
            "grid_template_rows": null,
            "height": null,
            "justify_content": null,
            "justify_items": null,
            "left": null,
            "margin": null,
            "max_height": null,
            "max_width": null,
            "min_height": null,
            "min_width": null,
            "object_fit": null,
            "object_position": null,
            "order": null,
            "overflow": null,
            "overflow_x": null,
            "overflow_y": null,
            "padding": null,
            "right": null,
            "top": null,
            "visibility": null,
            "width": null
          }
        },
        "3a3264ccbb7343b787832ede1d258539": {
          "model_module": "@jupyter-widgets/base",
          "model_module_version": "1.2.0",
          "model_name": "LayoutModel",
          "state": {
            "_model_module": "@jupyter-widgets/base",
            "_model_module_version": "1.2.0",
            "_model_name": "LayoutModel",
            "_view_count": null,
            "_view_module": "@jupyter-widgets/base",
            "_view_module_version": "1.2.0",
            "_view_name": "LayoutView",
            "align_content": null,
            "align_items": null,
            "align_self": null,
            "border": null,
            "bottom": null,
            "display": null,
            "flex": null,
            "flex_flow": null,
            "grid_area": null,
            "grid_auto_columns": null,
            "grid_auto_flow": null,
            "grid_auto_rows": null,
            "grid_column": null,
            "grid_gap": null,
            "grid_row": null,
            "grid_template_areas": null,
            "grid_template_columns": null,
            "grid_template_rows": null,
            "height": null,
            "justify_content": null,
            "justify_items": null,
            "left": null,
            "margin": null,
            "max_height": null,
            "max_width": null,
            "min_height": null,
            "min_width": null,
            "object_fit": null,
            "object_position": null,
            "order": null,
            "overflow": null,
            "overflow_x": null,
            "overflow_y": null,
            "padding": null,
            "right": null,
            "top": null,
            "visibility": null,
            "width": null
          }
        },
        "3e9db49c0bb0474e89e2ca207923572b": {
          "model_module": "@jupyter-widgets/controls",
          "model_module_version": "1.5.0",
          "model_name": "DescriptionStyleModel",
          "state": {
            "_model_module": "@jupyter-widgets/controls",
            "_model_module_version": "1.5.0",
            "_model_name": "DescriptionStyleModel",
            "_view_count": null,
            "_view_module": "@jupyter-widgets/base",
            "_view_module_version": "1.2.0",
            "_view_name": "StyleView",
            "description_width": ""
          }
        },
        "4537b9e8001349e994d52a9d6e042991": {
          "model_module": "@jupyter-widgets/controls",
          "model_module_version": "1.5.0",
          "model_name": "DescriptionStyleModel",
          "state": {
            "_model_module": "@jupyter-widgets/controls",
            "_model_module_version": "1.5.0",
            "_model_name": "DescriptionStyleModel",
            "_view_count": null,
            "_view_module": "@jupyter-widgets/base",
            "_view_module_version": "1.2.0",
            "_view_name": "StyleView",
            "description_width": ""
          }
        },
        "4b0416d401fa433caa1d6a69e953db74": {
          "model_module": "@jupyter-widgets/controls",
          "model_module_version": "1.5.0",
          "model_name": "ProgressStyleModel",
          "state": {
            "_model_module": "@jupyter-widgets/controls",
            "_model_module_version": "1.5.0",
            "_model_name": "ProgressStyleModel",
            "_view_count": null,
            "_view_module": "@jupyter-widgets/base",
            "_view_module_version": "1.2.0",
            "_view_name": "StyleView",
            "bar_color": null,
            "description_width": ""
          }
        },
        "4d2aa83b1b844149b8ca3d1cf516cb92": {
          "model_module": "@jupyter-widgets/controls",
          "model_module_version": "1.5.0",
          "model_name": "HBoxModel",
          "state": {
            "_dom_classes": [],
            "_model_module": "@jupyter-widgets/controls",
            "_model_module_version": "1.5.0",
            "_model_name": "HBoxModel",
            "_view_count": null,
            "_view_module": "@jupyter-widgets/controls",
            "_view_module_version": "1.5.0",
            "_view_name": "HBoxView",
            "box_style": "",
            "children": [
              "IPY_MODEL_c5a6a010f1de4b6380a0f4dbb8529522",
              "IPY_MODEL_25530c2f1f484e25adcbde8c0eb035c3",
              "IPY_MODEL_1c07f135f5874323ade704db78dac005"
            ],
            "layout": "IPY_MODEL_ed6ea03e2bb24a3a9ff4cb0a224f91dd"
          }
        },
        "52a1acb365414a5dabb6d588bb3858c0": {
          "model_module": "@jupyter-widgets/controls",
          "model_module_version": "1.5.0",
          "model_name": "HTMLModel",
          "state": {
            "_dom_classes": [],
            "_model_module": "@jupyter-widgets/controls",
            "_model_module_version": "1.5.0",
            "_model_name": "HTMLModel",
            "_view_count": null,
            "_view_module": "@jupyter-widgets/controls",
            "_view_module_version": "1.5.0",
            "_view_name": "HTMLView",
            "description": "",
            "description_tooltip": null,
            "layout": "IPY_MODEL_f6d24bdb8318445eb69617dbb1f63fea",
            "placeholder": "​",
            "style": "IPY_MODEL_ab4b8998326948978dad58b5fb23f179",
            "value": " 232k/232k [00:00&lt;00:00, 5.40MB/s]"
          }
        },
        "58ff698181624eb2a6d892abf90180ee": {
          "model_module": "@jupyter-widgets/base",
          "model_module_version": "1.2.0",
          "model_name": "LayoutModel",
          "state": {
            "_model_module": "@jupyter-widgets/base",
            "_model_module_version": "1.2.0",
            "_model_name": "LayoutModel",
            "_view_count": null,
            "_view_module": "@jupyter-widgets/base",
            "_view_module_version": "1.2.0",
            "_view_name": "LayoutView",
            "align_content": null,
            "align_items": null,
            "align_self": null,
            "border": null,
            "bottom": null,
            "display": null,
            "flex": null,
            "flex_flow": null,
            "grid_area": null,
            "grid_auto_columns": null,
            "grid_auto_flow": null,
            "grid_auto_rows": null,
            "grid_column": null,
            "grid_gap": null,
            "grid_row": null,
            "grid_template_areas": null,
            "grid_template_columns": null,
            "grid_template_rows": null,
            "height": null,
            "justify_content": null,
            "justify_items": null,
            "left": null,
            "margin": null,
            "max_height": null,
            "max_width": null,
            "min_height": null,
            "min_width": null,
            "object_fit": null,
            "object_position": null,
            "order": null,
            "overflow": null,
            "overflow_x": null,
            "overflow_y": null,
            "padding": null,
            "right": null,
            "top": null,
            "visibility": null,
            "width": null
          }
        },
        "63be7976d51b4134bb5c5372bde8e057": {
          "model_module": "@jupyter-widgets/controls",
          "model_module_version": "1.5.0",
          "model_name": "DescriptionStyleModel",
          "state": {
            "_model_module": "@jupyter-widgets/controls",
            "_model_module_version": "1.5.0",
            "_model_name": "DescriptionStyleModel",
            "_view_count": null,
            "_view_module": "@jupyter-widgets/base",
            "_view_module_version": "1.2.0",
            "_view_name": "StyleView",
            "description_width": ""
          }
        },
        "6483124ad13a42928b2054fc4d5a2718": {
          "model_module": "@jupyter-widgets/controls",
          "model_module_version": "1.5.0",
          "model_name": "HTMLModel",
          "state": {
            "_dom_classes": [],
            "_model_module": "@jupyter-widgets/controls",
            "_model_module_version": "1.5.0",
            "_model_name": "HTMLModel",
            "_view_count": null,
            "_view_module": "@jupyter-widgets/controls",
            "_view_module_version": "1.5.0",
            "_view_name": "HTMLView",
            "description": "",
            "description_tooltip": null,
            "layout": "IPY_MODEL_d24c232e43a14bcc9c6e090051d2c4d9",
            "placeholder": "​",
            "style": "IPY_MODEL_233eb2d459df4364b4d3a087f68ed893",
            "value": "tokenizer_config.json: 100%"
          }
        },
        "6a309a79be004b7ba89abf6fc0951e3b": {
          "model_module": "@jupyter-widgets/controls",
          "model_module_version": "1.5.0",
          "model_name": "HTMLModel",
          "state": {
            "_dom_classes": [],
            "_model_module": "@jupyter-widgets/controls",
            "_model_module_version": "1.5.0",
            "_model_name": "HTMLModel",
            "_view_count": null,
            "_view_module": "@jupyter-widgets/controls",
            "_view_module_version": "1.5.0",
            "_view_name": "HTMLView",
            "description": "",
            "description_tooltip": null,
            "layout": "IPY_MODEL_b243301cb7b24f04859d0d5eee2779ee",
            "placeholder": "​",
            "style": "IPY_MODEL_a6d164c39e6e4e5dbcd253d191f43c0d",
            "value": "tokenizer.json: 100%"
          }
        },
        "75a00d20e89f4a8297446d070c3499af": {
          "model_module": "@jupyter-widgets/base",
          "model_module_version": "1.2.0",
          "model_name": "LayoutModel",
          "state": {
            "_model_module": "@jupyter-widgets/base",
            "_model_module_version": "1.2.0",
            "_model_name": "LayoutModel",
            "_view_count": null,
            "_view_module": "@jupyter-widgets/base",
            "_view_module_version": "1.2.0",
            "_view_name": "LayoutView",
            "align_content": null,
            "align_items": null,
            "align_self": null,
            "border": null,
            "bottom": null,
            "display": null,
            "flex": null,
            "flex_flow": null,
            "grid_area": null,
            "grid_auto_columns": null,
            "grid_auto_flow": null,
            "grid_auto_rows": null,
            "grid_column": null,
            "grid_gap": null,
            "grid_row": null,
            "grid_template_areas": null,
            "grid_template_columns": null,
            "grid_template_rows": null,
            "height": null,
            "justify_content": null,
            "justify_items": null,
            "left": null,
            "margin": null,
            "max_height": null,
            "max_width": null,
            "min_height": null,
            "min_width": null,
            "object_fit": null,
            "object_position": null,
            "order": null,
            "overflow": null,
            "overflow_x": null,
            "overflow_y": null,
            "padding": null,
            "right": null,
            "top": null,
            "visibility": null,
            "width": null
          }
        },
        "78bfdf6a5c04476aa5dcf85a8bc33a38": {
          "model_module": "@jupyter-widgets/controls",
          "model_module_version": "1.5.0",
          "model_name": "HBoxModel",
          "state": {
            "_dom_classes": [],
            "_model_module": "@jupyter-widgets/controls",
            "_model_module_version": "1.5.0",
            "_model_name": "HBoxModel",
            "_view_count": null,
            "_view_module": "@jupyter-widgets/controls",
            "_view_module_version": "1.5.0",
            "_view_name": "HBoxView",
            "box_style": "",
            "children": [
              "IPY_MODEL_6483124ad13a42928b2054fc4d5a2718",
              "IPY_MODEL_209cff7cf277488d988d789f9f66858b",
              "IPY_MODEL_0e571025b0eb4f1e899d555d0c6ec287"
            ],
            "layout": "IPY_MODEL_75a00d20e89f4a8297446d070c3499af"
          }
        },
        "962056b20e854392bd7fdc4251a77e8e": {
          "model_module": "@jupyter-widgets/controls",
          "model_module_version": "1.5.0",
          "model_name": "HTMLModel",
          "state": {
            "_dom_classes": [],
            "_model_module": "@jupyter-widgets/controls",
            "_model_module_version": "1.5.0",
            "_model_name": "HTMLModel",
            "_view_count": null,
            "_view_module": "@jupyter-widgets/controls",
            "_view_module_version": "1.5.0",
            "_view_name": "HTMLView",
            "description": "",
            "description_tooltip": null,
            "layout": "IPY_MODEL_58ff698181624eb2a6d892abf90180ee",
            "placeholder": "​",
            "style": "IPY_MODEL_d81200b93e644fe59f782596b905a998",
            "value": "vocab.txt: 100%"
          }
        },
        "a24d9a3938994fc18cd2d36415daedc1": {
          "model_module": "@jupyter-widgets/base",
          "model_module_version": "1.2.0",
          "model_name": "LayoutModel",
          "state": {
            "_model_module": "@jupyter-widgets/base",
            "_model_module_version": "1.2.0",
            "_model_name": "LayoutModel",
            "_view_count": null,
            "_view_module": "@jupyter-widgets/base",
            "_view_module_version": "1.2.0",
            "_view_name": "LayoutView",
            "align_content": null,
            "align_items": null,
            "align_self": null,
            "border": null,
            "bottom": null,
            "display": null,
            "flex": null,
            "flex_flow": null,
            "grid_area": null,
            "grid_auto_columns": null,
            "grid_auto_flow": null,
            "grid_auto_rows": null,
            "grid_column": null,
            "grid_gap": null,
            "grid_row": null,
            "grid_template_areas": null,
            "grid_template_columns": null,
            "grid_template_rows": null,
            "height": null,
            "justify_content": null,
            "justify_items": null,
            "left": null,
            "margin": null,
            "max_height": null,
            "max_width": null,
            "min_height": null,
            "min_width": null,
            "object_fit": null,
            "object_position": null,
            "order": null,
            "overflow": null,
            "overflow_x": null,
            "overflow_y": null,
            "padding": null,
            "right": null,
            "top": null,
            "visibility": null,
            "width": null
          }
        },
        "a6d164c39e6e4e5dbcd253d191f43c0d": {
          "model_module": "@jupyter-widgets/controls",
          "model_module_version": "1.5.0",
          "model_name": "DescriptionStyleModel",
          "state": {
            "_model_module": "@jupyter-widgets/controls",
            "_model_module_version": "1.5.0",
            "_model_name": "DescriptionStyleModel",
            "_view_count": null,
            "_view_module": "@jupyter-widgets/base",
            "_view_module_version": "1.2.0",
            "_view_name": "StyleView",
            "description_width": ""
          }
        },
        "ab4b8998326948978dad58b5fb23f179": {
          "model_module": "@jupyter-widgets/controls",
          "model_module_version": "1.5.0",
          "model_name": "DescriptionStyleModel",
          "state": {
            "_model_module": "@jupyter-widgets/controls",
            "_model_module_version": "1.5.0",
            "_model_name": "DescriptionStyleModel",
            "_view_count": null,
            "_view_module": "@jupyter-widgets/base",
            "_view_module_version": "1.2.0",
            "_view_name": "StyleView",
            "description_width": ""
          }
        },
        "b243301cb7b24f04859d0d5eee2779ee": {
          "model_module": "@jupyter-widgets/base",
          "model_module_version": "1.2.0",
          "model_name": "LayoutModel",
          "state": {
            "_model_module": "@jupyter-widgets/base",
            "_model_module_version": "1.2.0",
            "_model_name": "LayoutModel",
            "_view_count": null,
            "_view_module": "@jupyter-widgets/base",
            "_view_module_version": "1.2.0",
            "_view_name": "LayoutView",
            "align_content": null,
            "align_items": null,
            "align_self": null,
            "border": null,
            "bottom": null,
            "display": null,
            "flex": null,
            "flex_flow": null,
            "grid_area": null,
            "grid_auto_columns": null,
            "grid_auto_flow": null,
            "grid_auto_rows": null,
            "grid_column": null,
            "grid_gap": null,
            "grid_row": null,
            "grid_template_areas": null,
            "grid_template_columns": null,
            "grid_template_rows": null,
            "height": null,
            "justify_content": null,
            "justify_items": null,
            "left": null,
            "margin": null,
            "max_height": null,
            "max_width": null,
            "min_height": null,
            "min_width": null,
            "object_fit": null,
            "object_position": null,
            "order": null,
            "overflow": null,
            "overflow_x": null,
            "overflow_y": null,
            "padding": null,
            "right": null,
            "top": null,
            "visibility": null,
            "width": null
          }
        },
        "b69fbb3ad2f9436d9d7edf9bfe556af4": {
          "model_module": "@jupyter-widgets/controls",
          "model_module_version": "1.5.0",
          "model_name": "ProgressStyleModel",
          "state": {
            "_model_module": "@jupyter-widgets/controls",
            "_model_module_version": "1.5.0",
            "_model_name": "ProgressStyleModel",
            "_view_count": null,
            "_view_module": "@jupyter-widgets/base",
            "_view_module_version": "1.2.0",
            "_view_name": "StyleView",
            "bar_color": null,
            "description_width": ""
          }
        },
        "c5a6a010f1de4b6380a0f4dbb8529522": {
          "model_module": "@jupyter-widgets/controls",
          "model_module_version": "1.5.0",
          "model_name": "HTMLModel",
          "state": {
            "_dom_classes": [],
            "_model_module": "@jupyter-widgets/controls",
            "_model_module_version": "1.5.0",
            "_model_name": "HTMLModel",
            "_view_count": null,
            "_view_module": "@jupyter-widgets/controls",
            "_view_module_version": "1.5.0",
            "_view_name": "HTMLView",
            "description": "",
            "description_tooltip": null,
            "layout": "IPY_MODEL_0cac821cd21d443494ea7fe97a30bb07",
            "placeholder": "​",
            "style": "IPY_MODEL_1e1bbe9b31ed4223932679a41c2eedcc",
            "value": "config.json: 100%"
          }
        },
        "c6065b62a6464339a8d339d49dcd1fff": {
          "model_module": "@jupyter-widgets/controls",
          "model_module_version": "1.5.0",
          "model_name": "ProgressStyleModel",
          "state": {
            "_model_module": "@jupyter-widgets/controls",
            "_model_module_version": "1.5.0",
            "_model_name": "ProgressStyleModel",
            "_view_count": null,
            "_view_module": "@jupyter-widgets/base",
            "_view_module_version": "1.2.0",
            "_view_name": "StyleView",
            "bar_color": null,
            "description_width": ""
          }
        },
        "c80d4a7077a442b89283480bce851e4e": {
          "model_module": "@jupyter-widgets/base",
          "model_module_version": "1.2.0",
          "model_name": "LayoutModel",
          "state": {
            "_model_module": "@jupyter-widgets/base",
            "_model_module_version": "1.2.0",
            "_model_name": "LayoutModel",
            "_view_count": null,
            "_view_module": "@jupyter-widgets/base",
            "_view_module_version": "1.2.0",
            "_view_name": "LayoutView",
            "align_content": null,
            "align_items": null,
            "align_self": null,
            "border": null,
            "bottom": null,
            "display": null,
            "flex": null,
            "flex_flow": null,
            "grid_area": null,
            "grid_auto_columns": null,
            "grid_auto_flow": null,
            "grid_auto_rows": null,
            "grid_column": null,
            "grid_gap": null,
            "grid_row": null,
            "grid_template_areas": null,
            "grid_template_columns": null,
            "grid_template_rows": null,
            "height": null,
            "justify_content": null,
            "justify_items": null,
            "left": null,
            "margin": null,
            "max_height": null,
            "max_width": null,
            "min_height": null,
            "min_width": null,
            "object_fit": null,
            "object_position": null,
            "order": null,
            "overflow": null,
            "overflow_x": null,
            "overflow_y": null,
            "padding": null,
            "right": null,
            "top": null,
            "visibility": null,
            "width": null
          }
        },
        "d24c232e43a14bcc9c6e090051d2c4d9": {
          "model_module": "@jupyter-widgets/base",
          "model_module_version": "1.2.0",
          "model_name": "LayoutModel",
          "state": {
            "_model_module": "@jupyter-widgets/base",
            "_model_module_version": "1.2.0",
            "_model_name": "LayoutModel",
            "_view_count": null,
            "_view_module": "@jupyter-widgets/base",
            "_view_module_version": "1.2.0",
            "_view_name": "LayoutView",
            "align_content": null,
            "align_items": null,
            "align_self": null,
            "border": null,
            "bottom": null,
            "display": null,
            "flex": null,
            "flex_flow": null,
            "grid_area": null,
            "grid_auto_columns": null,
            "grid_auto_flow": null,
            "grid_auto_rows": null,
            "grid_column": null,
            "grid_gap": null,
            "grid_row": null,
            "grid_template_areas": null,
            "grid_template_columns": null,
            "grid_template_rows": null,
            "height": null,
            "justify_content": null,
            "justify_items": null,
            "left": null,
            "margin": null,
            "max_height": null,
            "max_width": null,
            "min_height": null,
            "min_width": null,
            "object_fit": null,
            "object_position": null,
            "order": null,
            "overflow": null,
            "overflow_x": null,
            "overflow_y": null,
            "padding": null,
            "right": null,
            "top": null,
            "visibility": null,
            "width": null
          }
        },
        "d81200b93e644fe59f782596b905a998": {
          "model_module": "@jupyter-widgets/controls",
          "model_module_version": "1.5.0",
          "model_name": "DescriptionStyleModel",
          "state": {
            "_model_module": "@jupyter-widgets/controls",
            "_model_module_version": "1.5.0",
            "_model_name": "DescriptionStyleModel",
            "_view_count": null,
            "_view_module": "@jupyter-widgets/base",
            "_view_module_version": "1.2.0",
            "_view_name": "StyleView",
            "description_width": ""
          }
        },
        "dc978e0543dd4d798b8d72f9cfcfbdda": {
          "model_module": "@jupyter-widgets/controls",
          "model_module_version": "1.5.0",
          "model_name": "HBoxModel",
          "state": {
            "_dom_classes": [],
            "_model_module": "@jupyter-widgets/controls",
            "_model_module_version": "1.5.0",
            "_model_name": "HBoxModel",
            "_view_count": null,
            "_view_module": "@jupyter-widgets/controls",
            "_view_module_version": "1.5.0",
            "_view_name": "HBoxView",
            "box_style": "",
            "children": [
              "IPY_MODEL_962056b20e854392bd7fdc4251a77e8e",
              "IPY_MODEL_feb9636105524e28a27afe2d9bfd9415",
              "IPY_MODEL_52a1acb365414a5dabb6d588bb3858c0"
            ],
            "layout": "IPY_MODEL_e5f7c83cb05e4c5d9d985900b7ba076d"
          }
        },
        "dd9e9090401d4a53ba2a7db552c7e1dc": {
          "model_module": "@jupyter-widgets/base",
          "model_module_version": "1.2.0",
          "model_name": "LayoutModel",
          "state": {
            "_model_module": "@jupyter-widgets/base",
            "_model_module_version": "1.2.0",
            "_model_name": "LayoutModel",
            "_view_count": null,
            "_view_module": "@jupyter-widgets/base",
            "_view_module_version": "1.2.0",
            "_view_name": "LayoutView",
            "align_content": null,
            "align_items": null,
            "align_self": null,
            "border": null,
            "bottom": null,
            "display": null,
            "flex": null,
            "flex_flow": null,
            "grid_area": null,
            "grid_auto_columns": null,
            "grid_auto_flow": null,
            "grid_auto_rows": null,
            "grid_column": null,
            "grid_gap": null,
            "grid_row": null,
            "grid_template_areas": null,
            "grid_template_columns": null,
            "grid_template_rows": null,
            "height": null,
            "justify_content": null,
            "justify_items": null,
            "left": null,
            "margin": null,
            "max_height": null,
            "max_width": null,
            "min_height": null,
            "min_width": null,
            "object_fit": null,
            "object_position": null,
            "order": null,
            "overflow": null,
            "overflow_x": null,
            "overflow_y": null,
            "padding": null,
            "right": null,
            "top": null,
            "visibility": null,
            "width": null
          }
        },
        "dea9c2ffe42a46388c3082a34d8d0abc": {
          "model_module": "@jupyter-widgets/controls",
          "model_module_version": "1.5.0",
          "model_name": "HTMLModel",
          "state": {
            "_dom_classes": [],
            "_model_module": "@jupyter-widgets/controls",
            "_model_module_version": "1.5.0",
            "_model_name": "HTMLModel",
            "_view_count": null,
            "_view_module": "@jupyter-widgets/controls",
            "_view_module_version": "1.5.0",
            "_view_name": "HTMLView",
            "description": "",
            "description_tooltip": null,
            "layout": "IPY_MODEL_c80d4a7077a442b89283480bce851e4e",
            "placeholder": "​",
            "style": "IPY_MODEL_3e9db49c0bb0474e89e2ca207923572b",
            "value": " 466k/466k [00:00&lt;00:00, 21.9MB/s]"
          }
        },
        "e5f7c83cb05e4c5d9d985900b7ba076d": {
          "model_module": "@jupyter-widgets/base",
          "model_module_version": "1.2.0",
          "model_name": "LayoutModel",
          "state": {
            "_model_module": "@jupyter-widgets/base",
            "_model_module_version": "1.2.0",
            "_model_name": "LayoutModel",
            "_view_count": null,
            "_view_module": "@jupyter-widgets/base",
            "_view_module_version": "1.2.0",
            "_view_name": "LayoutView",
            "align_content": null,
            "align_items": null,
            "align_self": null,
            "border": null,
            "bottom": null,
            "display": null,
            "flex": null,
            "flex_flow": null,
            "grid_area": null,
            "grid_auto_columns": null,
            "grid_auto_flow": null,
            "grid_auto_rows": null,
            "grid_column": null,
            "grid_gap": null,
            "grid_row": null,
            "grid_template_areas": null,
            "grid_template_columns": null,
            "grid_template_rows": null,
            "height": null,
            "justify_content": null,
            "justify_items": null,
            "left": null,
            "margin": null,
            "max_height": null,
            "max_width": null,
            "min_height": null,
            "min_width": null,
            "object_fit": null,
            "object_position": null,
            "order": null,
            "overflow": null,
            "overflow_x": null,
            "overflow_y": null,
            "padding": null,
            "right": null,
            "top": null,
            "visibility": null,
            "width": null
          }
        },
        "ed6ea03e2bb24a3a9ff4cb0a224f91dd": {
          "model_module": "@jupyter-widgets/base",
          "model_module_version": "1.2.0",
          "model_name": "LayoutModel",
          "state": {
            "_model_module": "@jupyter-widgets/base",
            "_model_module_version": "1.2.0",
            "_model_name": "LayoutModel",
            "_view_count": null,
            "_view_module": "@jupyter-widgets/base",
            "_view_module_version": "1.2.0",
            "_view_name": "LayoutView",
            "align_content": null,
            "align_items": null,
            "align_self": null,
            "border": null,
            "bottom": null,
            "display": null,
            "flex": null,
            "flex_flow": null,
            "grid_area": null,
            "grid_auto_columns": null,
            "grid_auto_flow": null,
            "grid_auto_rows": null,
            "grid_column": null,
            "grid_gap": null,
            "grid_row": null,
            "grid_template_areas": null,
            "grid_template_columns": null,
            "grid_template_rows": null,
            "height": null,
            "justify_content": null,
            "justify_items": null,
            "left": null,
            "margin": null,
            "max_height": null,
            "max_width": null,
            "min_height": null,
            "min_width": null,
            "object_fit": null,
            "object_position": null,
            "order": null,
            "overflow": null,
            "overflow_x": null,
            "overflow_y": null,
            "padding": null,
            "right": null,
            "top": null,
            "visibility": null,
            "width": null
          }
        },
        "f50af1de7e9e48039d3cf2c6c49a26a0": {
          "model_module": "@jupyter-widgets/base",
          "model_module_version": "1.2.0",
          "model_name": "LayoutModel",
          "state": {
            "_model_module": "@jupyter-widgets/base",
            "_model_module_version": "1.2.0",
            "_model_name": "LayoutModel",
            "_view_count": null,
            "_view_module": "@jupyter-widgets/base",
            "_view_module_version": "1.2.0",
            "_view_name": "LayoutView",
            "align_content": null,
            "align_items": null,
            "align_self": null,
            "border": null,
            "bottom": null,
            "display": null,
            "flex": null,
            "flex_flow": null,
            "grid_area": null,
            "grid_auto_columns": null,
            "grid_auto_flow": null,
            "grid_auto_rows": null,
            "grid_column": null,
            "grid_gap": null,
            "grid_row": null,
            "grid_template_areas": null,
            "grid_template_columns": null,
            "grid_template_rows": null,
            "height": null,
            "justify_content": null,
            "justify_items": null,
            "left": null,
            "margin": null,
            "max_height": null,
            "max_width": null,
            "min_height": null,
            "min_width": null,
            "object_fit": null,
            "object_position": null,
            "order": null,
            "overflow": null,
            "overflow_x": null,
            "overflow_y": null,
            "padding": null,
            "right": null,
            "top": null,
            "visibility": null,
            "width": null
          }
        },
        "f6d24bdb8318445eb69617dbb1f63fea": {
          "model_module": "@jupyter-widgets/base",
          "model_module_version": "1.2.0",
          "model_name": "LayoutModel",
          "state": {
            "_model_module": "@jupyter-widgets/base",
            "_model_module_version": "1.2.0",
            "_model_name": "LayoutModel",
            "_view_count": null,
            "_view_module": "@jupyter-widgets/base",
            "_view_module_version": "1.2.0",
            "_view_name": "LayoutView",
            "align_content": null,
            "align_items": null,
            "align_self": null,
            "border": null,
            "bottom": null,
            "display": null,
            "flex": null,
            "flex_flow": null,
            "grid_area": null,
            "grid_auto_columns": null,
            "grid_auto_flow": null,
            "grid_auto_rows": null,
            "grid_column": null,
            "grid_gap": null,
            "grid_row": null,
            "grid_template_areas": null,
            "grid_template_columns": null,
            "grid_template_rows": null,
            "height": null,
            "justify_content": null,
            "justify_items": null,
            "left": null,
            "margin": null,
            "max_height": null,
            "max_width": null,
            "min_height": null,
            "min_width": null,
            "object_fit": null,
            "object_position": null,
            "order": null,
            "overflow": null,
            "overflow_x": null,
            "overflow_y": null,
            "padding": null,
            "right": null,
            "top": null,
            "visibility": null,
            "width": null
          }
        },
        "f890527e6a7f44b996fe81ea18f3b8ff": {
          "model_module": "@jupyter-widgets/controls",
          "model_module_version": "1.5.0",
          "model_name": "HBoxModel",
          "state": {
            "_dom_classes": [],
            "_model_module": "@jupyter-widgets/controls",
            "_model_module_version": "1.5.0",
            "_model_name": "HBoxModel",
            "_view_count": null,
            "_view_module": "@jupyter-widgets/controls",
            "_view_module_version": "1.5.0",
            "_view_name": "HBoxView",
            "box_style": "",
            "children": [
              "IPY_MODEL_6a309a79be004b7ba89abf6fc0951e3b",
              "IPY_MODEL_2346b1c64d2a4d08abdd5fd678e302c8",
              "IPY_MODEL_dea9c2ffe42a46388c3082a34d8d0abc"
            ],
            "layout": "IPY_MODEL_0db4bb4b2c894b45b15f65b066633114"
          }
        },
        "f9f30c4b869f4b1a985b1d8ebbf60d6b": {
          "model_module": "@jupyter-widgets/controls",
          "model_module_version": "1.5.0",
          "model_name": "ProgressStyleModel",
          "state": {
            "_model_module": "@jupyter-widgets/controls",
            "_model_module_version": "1.5.0",
            "_model_name": "ProgressStyleModel",
            "_view_count": null,
            "_view_module": "@jupyter-widgets/base",
            "_view_module_version": "1.2.0",
            "_view_name": "StyleView",
            "bar_color": null,
            "description_width": ""
          }
        },
        "feb9636105524e28a27afe2d9bfd9415": {
          "model_module": "@jupyter-widgets/controls",
          "model_module_version": "1.5.0",
          "model_name": "FloatProgressModel",
          "state": {
            "_dom_classes": [],
            "_model_module": "@jupyter-widgets/controls",
            "_model_module_version": "1.5.0",
            "_model_name": "FloatProgressModel",
            "_view_count": null,
            "_view_module": "@jupyter-widgets/controls",
            "_view_module_version": "1.5.0",
            "_view_name": "ProgressView",
            "bar_style": "success",
            "description": "",
            "description_tooltip": null,
            "layout": "IPY_MODEL_f50af1de7e9e48039d3cf2c6c49a26a0",
            "max": 231508,
            "min": 0,
            "orientation": "horizontal",
            "style": "IPY_MODEL_f9f30c4b869f4b1a985b1d8ebbf60d6b",
            "value": 231508
          }
        }
      }
    }
  },
  "nbformat": 4,
  "nbformat_minor": 0
}
